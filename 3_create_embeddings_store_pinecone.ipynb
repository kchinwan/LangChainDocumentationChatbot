{
 "cells": [
  {
   "cell_type": "code",
   "execution_count": 1,
   "id": "bcd5354e-a0db-43d8-b04e-47e1860eb469",
   "metadata": {
    "tags": []
   },
   "outputs": [
    {
     "name": "stderr",
     "output_type": "stream",
     "text": [
      "/Users/kuldeepchinwan/Projects/LangChainDocumentationChatbot/ai_env/lib/python3.11/site-packages/pinecone/data/index.py:1: TqdmWarning: IProgress not found. Please update jupyter and ipywidgets. See https://ipywidgets.readthedocs.io/en/stable/user_install.html\n",
      "  from tqdm.autonotebook import tqdm\n"
     ]
    }
   ],
   "source": [
    "import pickle\n",
    "from langchain.embeddings import OpenAIEmbeddings\n",
    "from langchain.embeddings import HuggingFaceEmbeddings\n",
    "import os\n",
    "from pinecone import Pinecone, ServerlessSpec\n",
    "from dotenv import load_dotenv\n",
    "from sentence_transformers import SentenceTransformer"
   ]
  },
  {
   "cell_type": "code",
   "execution_count": 2,
   "id": "77e0e5a4-1800-490c-aec0-d978af236a55",
   "metadata": {
    "tags": []
   },
   "outputs": [
    {
     "name": "stdout",
     "output_type": "stream",
     "text": [
      "Loaded 1116 text chunks!\n",
      "Sample Chunk:\n",
      "hide_table_of_contents: true import People from \"@theme/People\"; People There are some incredible humans from all over the world who have been instrumental in helping the LangChain community flourish 🌐! This page highlights a few of those folks who have dedicated their time to the open-source repo in the form of direct contributions and reviews. Top reviewers As LangChain has grown, the amount of surface area that maintainers cover has grown as well. Thank you to the following folks who have gon\n"
     ]
    }
   ],
   "source": [
    "# Load preprocessed document chunks\n",
    "with open(\"preprocessed_docs.pkl\", \"rb\") as f:\n",
    "    split_docs = pickle.load(f)\n",
    "\n",
    "print(f\"Loaded {len(split_docs)} text chunks!\")\n",
    "print(f\"Sample Chunk:\\n{split_docs[0].page_content[:500]}\")"
   ]
  },
  {
   "cell_type": "code",
   "execution_count": 3,
   "id": "cb339e0a-e75f-4c2e-a4ff-63b1ed935078",
   "metadata": {
    "tags": []
   },
   "outputs": [
    {
     "data": {
      "text/plain": [
       "True"
      ]
     },
     "execution_count": 3,
     "metadata": {},
     "output_type": "execute_result"
    }
   ],
   "source": [
    "# Load variables from .env file\n",
    "load_dotenv()"
   ]
  },
  {
   "cell_type": "code",
   "execution_count": 4,
   "id": "8461ad76-b3bb-47b2-85f1-d0e52a3d9beb",
   "metadata": {
    "tags": []
   },
   "outputs": [],
   "source": [
    "# Access the API keys\n",
    "OPENAI_API_KEY = os.getenv(\"OPENAI_API_KEY\")   # not using due to error insufficient_quota\n",
    "PINECONE_API_KEY = os.getenv(\"PINECONE_API_KEY\")\n",
    "PINECONE_ENV = os.getenv(\"PINECONE_ENV\")"
   ]
  },
  {
   "cell_type": "code",
   "execution_count": 5,
   "id": "129efff3-fd2f-47f7-86b1-0abf029d9deb",
   "metadata": {
    "tags": []
   },
   "outputs": [],
   "source": [
    "# # Ensure you have set up your OpenAI API key in environment variables\n",
    "# os.environ[\"OPENAI_API_KEY\"] = OPENAI_API_KEY\n",
    "\n",
    "# # Initialize the OpenAI embedding model\n",
    "# embedding_model = OpenAIEmbeddings()"
   ]
  },
  {
   "cell_type": "code",
   "execution_count": 6,
   "id": "d92903d5-b9d1-4899-9f45-066a3e44bb63",
   "metadata": {
    "tags": []
   },
   "outputs": [
    {
     "name": "stderr",
     "output_type": "stream",
     "text": [
      "/var/folders/z4/xq_v1s5x7gq18vfl0fzwdlvc0000gn/T/ipykernel_59457/412152783.py:1: LangChainDeprecationWarning: The class `HuggingFaceEmbeddings` was deprecated in LangChain 0.2.2 and will be removed in 1.0. An updated version of the class exists in the :class:`~langchain-huggingface package and should be used instead. To use it run `pip install -U :class:`~langchain-huggingface` and import as `from :class:`~langchain_huggingface import HuggingFaceEmbeddings``.\n",
      "  embedding_model = HuggingFaceEmbeddings(model_name=\"sentence-transformers/all-MiniLM-L6-v2\")\n"
     ]
    }
   ],
   "source": [
    "embedding_model = HuggingFaceEmbeddings(model_name=\"sentence-transformers/all-MiniLM-L6-v2\")"
   ]
  },
  {
   "cell_type": "code",
   "execution_count": 7,
   "id": "369ab239-cb93-41fe-8dbb-0c14bce9cdd2",
   "metadata": {
    "tags": []
   },
   "outputs": [
    {
     "name": "stdout",
     "output_type": "stream",
     "text": [
      "Generated 1116 embeddings!\n"
     ]
    }
   ],
   "source": [
    "embedded_docs = [\n",
    "    {\n",
    "        \"id\": str(i),  # Unique ID for Pinecone\n",
    "        \"values\": embedding_model.embed_documents([doc.page_content])[0],  # Generate embedding\n",
    "        \"metadata\": {\n",
    "            \"text\": doc.page_content,  # Store full chunk text\n",
    "            \"source\": doc.metadata.get(\"source\", \"unknown\")  # Store source info\n",
    "        }\n",
    "    }\n",
    "    for i, doc in enumerate(split_docs)\n",
    "]\n",
    "\n",
    "print(f\"Generated {len(embedded_docs)} embeddings!\")\n"
   ]
  },
  {
   "cell_type": "code",
   "execution_count": 8,
   "id": "355df196-cd40-46a7-8612-f856c5d73ce4",
   "metadata": {
    "tags": []
   },
   "outputs": [],
   "source": [
    "# Save embeddings to a .pkl file BEFORE uploading to Pinecone\n",
    "with open(\"embeddings.pkl\", \"wb\") as f:\n",
    "    pickle.dump(embedded_docs, f)"
   ]
  },
  {
   "cell_type": "code",
   "execution_count": 9,
   "id": "fef991ed-b343-485b-a353-c72260f7f20c",
   "metadata": {
    "tags": []
   },
   "outputs": [
    {
     "name": "stdout",
     "output_type": "stream",
     "text": [
      "Successfully connected to Pinecone index: langchain-docs\n"
     ]
    }
   ],
   "source": [
    "\n",
    "# Create a Pinecone instance\n",
    "pc = Pinecone(api_key=PINECONE_API_KEY)\n",
    "\n",
    "# Define the index name\n",
    "index_name = \"langchain-docs\"\n",
    "\n",
    "# Check if the index already exists\n",
    "if index_name not in pc.list_indexes().names():\n",
    "    pc.create_index(\n",
    "        name=index_name, \n",
    "        dimension=384,  # Must match embedding model output size\n",
    "        metric=\"euclidean\",\n",
    "        spec=ServerlessSpec(\n",
    "            cloud=\"aws\",\n",
    "            region=PINECONE_ENV  # Ensure this matches your Pinecone account region\n",
    "        )\n",
    "    )\n",
    "\n",
    "# Connect to the index\n",
    "index = pc.Index(index_name)\n",
    "\n",
    "print(f\"Successfully connected to Pinecone index: {index_name}\")"
   ]
  },
  {
   "cell_type": "code",
   "execution_count": 10,
   "id": "417a894a-286e-4a7d-be5a-eeb82f185698",
   "metadata": {
    "tags": []
   },
   "outputs": [
    {
     "data": {
      "text/plain": [
       "'hide_table_of_contents: true import People from \"@theme/People\"; People There are some incredible humans from all over the world who have been instrumental in helping the LangChain community flourish 🌐! This page highlights a few of those folks who have dedicated their time to the open-source repo in the form of direct contributions and reviews. Top reviewers As LangChain has grown, the amount of surface area that maintainers cover has grown as well. Thank you to the following folks who have gone above and beyond in reviewing incoming PRs 🙏! Top recent contributors The list below contains contributors who have had the most PRs merged in the last three months, weighted (imperfectly) by impact. Thank you all so much for your time and efforts in making LangChain better ❤️! Core maintainers Hello there 👋! We\\'re LangChain\\'s core maintainers. If you\\'ve spent time in the community, you\\'ve probably crossed paths with at least one of us already. Top all-time contributors And finally, this is an'"
      ]
     },
     "execution_count": 10,
     "metadata": {},
     "output_type": "execute_result"
    }
   ],
   "source": [
    "embedded_docs[0][\"metadata\"]['text']"
   ]
  },
  {
   "cell_type": "code",
   "execution_count": 11,
   "id": "eea6fef0-0507-484f-b14f-abd549c54f1d",
   "metadata": {
    "tags": []
   },
   "outputs": [
    {
     "name": "stdout",
     "output_type": "stream",
     "text": [
      "Successfully stored embeddings in Pinecone!\n"
     ]
    }
   ],
   "source": [
    "batch_size = 100\n",
    "for i in range(0, len(embedded_docs), batch_size):\n",
    "    batch = embedded_docs[i : i + batch_size]\n",
    "\n",
    "    vectors = [\n",
    "        (\n",
    "            doc[\"id\"],  # Unique ID\n",
    "            doc[\"values\"],  # Embedding vector\n",
    "            doc[\"metadata\"]  # Metadata (text + source)\n",
    "        )\n",
    "        for doc in batch\n",
    "    ]\n",
    "\n",
    "    index.upsert(vectors=vectors)\n",
    "\n",
    "print(\"Successfully stored embeddings in Pinecone!\")\n"
   ]
  },
  {
   "cell_type": "code",
   "execution_count": null,
   "id": "d6c0b52b-0908-4caa-8749-e2bd89c08feb",
   "metadata": {},
   "outputs": [],
   "source": []
  }
 ],
 "metadata": {
  "kernelspec": {
   "display_name": "Python (ai_env)",
   "language": "python",
   "name": "ai_env"
  },
  "language_info": {
   "codemirror_mode": {
    "name": "ipython",
    "version": 3
   },
   "file_extension": ".py",
   "mimetype": "text/x-python",
   "name": "python",
   "nbconvert_exporter": "python",
   "pygments_lexer": "ipython3",
   "version": "3.11.3"
  }
 },
 "nbformat": 4,
 "nbformat_minor": 5
}
