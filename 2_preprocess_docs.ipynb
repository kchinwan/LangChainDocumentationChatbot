{
 "cells": [
  {
   "cell_type": "code",
   "execution_count": 1,
   "id": "7b8665eb-46d4-4fc3-bcbe-10693e826929",
   "metadata": {
    "tags": []
   },
   "outputs": [],
   "source": [
    "import pickle\n",
    "import re\n",
    "from bs4 import BeautifulSoup\n",
    "from langchain.text_splitter import RecursiveCharacterTextSplitter\n"
   ]
  },
  {
   "cell_type": "code",
   "execution_count": 2,
   "id": "0f8d6031-0cab-48cb-a725-42e47946fc82",
   "metadata": {
    "tags": []
   },
   "outputs": [
    {
     "name": "stdout",
     "output_type": "stream",
     "text": [
      "Loaded 403 documents\n",
      "Sample Document:\n",
      "hide_table_of_contents: true\n",
      "\n",
      "import People from \"@theme/People\";\n",
      "\n",
      "People\n",
      "\n",
      "There are some incredible humans from all over the world who have been instrumental in helping the LangChain community flourish 🌐!\n",
      "\n",
      "This page highlights a few of those folks who have dedicated their time to the open-source repo in the form of direct contributions and reviews.\n",
      "\n",
      "Top reviewers\n",
      "\n",
      "As LangChain has grown, the amount of surface area that maintainers cover has grown as well.\n",
      "\n",
      "Thank you to the following folks who h\n"
     ]
    }
   ],
   "source": [
    "# Load the saved documents\n",
    "with open(\"langchain_docs.pkl\", \"rb\") as f:\n",
    "    docs = pickle.load(f)\n",
    "\n",
    "print(f\"Loaded {len(docs)} documents\")\n",
    "print(f\"Sample Document:\\n{docs[0].page_content[:500]}\")"
   ]
  },
  {
   "cell_type": "code",
   "execution_count": 3,
   "id": "2995008b-3dcb-4562-bac3-44b0c3e42eb4",
   "metadata": {
    "tags": []
   },
   "outputs": [
    {
     "name": "stdout",
     "output_type": "stream",
     "text": [
      "Cleaned text successfully!\n",
      "Sample Cleaned Document:\n",
      "hide_table_of_contents: true import People from \"@theme/People\"; People There are some incredible humans from all over the world who have been instrumental in helping the LangChain community flourish 🌐! This page highlights a few of those folks who have dedicated their time to the open-source repo in the form of direct contributions and reviews. Top reviewers As LangChain has grown, the amount of surface area that maintainers cover has grown as well. Thank you to the following folks who have gon\n"
     ]
    }
   ],
   "source": [
    "#to clean the text\n",
    "def clean_text(text):\n",
    "    \"\"\"Removes JSX components, HTML tags, special characters, and extra spaces.\"\"\"\n",
    "    \n",
    "    # Remove HTML & JSX-like components\n",
    "    soup = BeautifulSoup(text, \"html.parser\")\n",
    "    text = soup.get_text()\n",
    "    \n",
    "    # Remove Markdown-style headers & links\n",
    "    text = re.sub(r\"\\[(.*?)\\]\\(.*?\\)\", r\"\\1\", text)  # Remove links [text](url)\n",
    "    text = re.sub(r\"#{1,6}\\s*\", \"\", text)  # Remove markdown headers\n",
    "    \n",
    "    # Remove code blocks & inline code\n",
    "    text = re.sub(r\"`{1,3}.*?`{1,3}\", \"\", text, flags=re.DOTALL)  \n",
    "    \n",
    "    # Remove extra spaces\n",
    "    text = re.sub(r\"\\s+\", \" \", text).strip()\n",
    "    \n",
    "    return text\n",
    "\n",
    "# Apply cleaning\n",
    "for doc in docs:\n",
    "    doc.page_content = clean_text(doc.page_content)\n",
    "\n",
    "print(\"Cleaned text successfully!\")\n",
    "print(f\"Sample Cleaned Document:\\n{docs[0].page_content[:500]}\")\n"
   ]
  },
  {
   "cell_type": "code",
   "execution_count": 4,
   "id": "ee4cc221-53fc-4a50-989e-ae2c32e327c0",
   "metadata": {
    "tags": []
   },
   "outputs": [
    {
     "name": "stdout",
     "output_type": "stream",
     "text": [
      "Split into 1116 chunks!\n",
      "Sample Chunk:\n",
      "hide_table_of_contents: true import People from \"@theme/People\"; People There are some incredible humans from all over the world who have been instrumental in helping the LangChain community flourish 🌐! This page highlights a few of those folks who have dedicated their time to the open-source repo in the form of direct contributions and reviews. Top reviewers As LangChain has grown, the amount of surface area that maintainers cover has grown as well. Thank you to the following folks who have gon\n"
     ]
    }
   ],
   "source": [
    "#Split Long Documents into Chunks. LangChain needs smaller chunks for efficient retrieval.\n",
    "# Define chunking parameters\n",
    "text_splitter = RecursiveCharacterTextSplitter(\n",
    "    chunk_size=1000,  # Each chunk is 1000 characters\n",
    "    chunk_overlap=200,  # Overlap to maintain context\n",
    "    separators=[\"\\n\\n\", \"\\n\", \" \", \"\"]\n",
    ")\n",
    "\n",
    "# Split the documents\n",
    "split_docs = text_splitter.split_documents(docs)\n",
    "\n",
    "print(f\"Split into {len(split_docs)} chunks!\")\n",
    "print(f\"Sample Chunk:\\n{split_docs[0].page_content[:500]}\")\n"
   ]
  },
  {
   "cell_type": "code",
   "execution_count": 5,
   "id": "fc05d367-0489-4c01-8862-8ebf9109d237",
   "metadata": {
    "tags": []
   },
   "outputs": [
    {
     "name": "stdout",
     "output_type": "stream",
     "text": [
      "Preprocessed documents saved successfully!\n"
     ]
    }
   ],
   "source": [
    "# Save preprocessed documents\n",
    "with open(\"preprocessed_docs.pkl\", \"wb\") as f:\n",
    "    pickle.dump(split_docs, f)\n",
    "\n",
    "print(\"Preprocessed documents saved successfully!\")\n"
   ]
  },
  {
   "cell_type": "code",
   "execution_count": null,
   "id": "66ccffcb-53d1-4e86-a8d3-0e0873b2e516",
   "metadata": {},
   "outputs": [],
   "source": []
  }
 ],
 "metadata": {
  "kernelspec": {
   "display_name": "Python (ai_env)",
   "language": "python",
   "name": "ai_env"
  },
  "language_info": {
   "codemirror_mode": {
    "name": "ipython",
    "version": 3
   },
   "file_extension": ".py",
   "mimetype": "text/x-python",
   "name": "python",
   "nbconvert_exporter": "python",
   "pygments_lexer": "ipython3",
   "version": "3.11.3"
  }
 },
 "nbformat": 4,
 "nbformat_minor": 5
}
