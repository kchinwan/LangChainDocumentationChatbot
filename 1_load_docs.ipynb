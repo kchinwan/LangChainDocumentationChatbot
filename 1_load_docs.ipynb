{
 "cells": [
  {
   "cell_type": "code",
   "execution_count": 1,
   "id": "8e613656-82ba-481e-bf70-057d1a3a4fcd",
   "metadata": {
    "tags": []
   },
   "outputs": [],
   "source": [
    "from langchain.document_loaders import DirectoryLoader, UnstructuredMarkdownLoader\n",
    "from langchain.document_loaders.generic import GenericLoader\n",
    "from langchain.document_loaders.parsers import LanguageParser\n",
    "from pathlib import Path\n",
    "from bs4 import BeautifulSoup"
   ]
  },
  {
   "cell_type": "code",
   "execution_count": 2,
   "id": "c20e00b8-9fc3-49ca-8af2-1d2c15188cd0",
   "metadata": {
    "tags": []
   },
   "outputs": [],
   "source": [
    "# Function to clean JSX/HTML-like tags from .mdx files\n",
    "def clean_mdx_text(text):\n",
    "    \"\"\"Removes JSX/React components and HTML-like tags from .mdx files.\"\"\"\n",
    "    soup = BeautifulSoup(text, \"html.parser\")\n",
    "    return soup.get_text()"
   ]
  },
  {
   "cell_type": "code",
   "execution_count": 3,
   "id": "18e71f4b-0956-4262-8eb2-64d6b68452ae",
   "metadata": {
    "tags": []
   },
   "outputs": [],
   "source": [
    "# Path to the cloned LangChain docs\n",
    "docs_path = \"./langchain/docs\"  # Update if needed"
   ]
  },
  {
   "cell_type": "code",
   "execution_count": 4,
   "id": "fec563b3-34e8-42c8-9ad7-77d152f4f565",
   "metadata": {
    "tags": []
   },
   "outputs": [],
   "source": [
    "#Load .mdx files using GenericLoader + UnstructuredMarkdownLoader\n",
    "mdx_files = list(Path(docs_path).rglob(\"*.mdx\"))  # Find all .mdx files\n",
    "\n",
    "docs_mdx = []\n",
    "for file_path in mdx_files:\n",
    "    loader = UnstructuredMarkdownLoader(str(file_path))\n",
    "    doc = loader.load()[0]  # Load single document\n",
    "    doc.page_content = clean_mdx_text(doc.page_content)  # Clean JSX\n",
    "    docs_mdx.append(doc)"
   ]
  },
  {
   "cell_type": "code",
   "execution_count": 5,
   "id": "2570d9ce-c991-414f-a6bb-fbece40ba627",
   "metadata": {
    "tags": []
   },
   "outputs": [
    {
     "name": "stdout",
     "output_type": "stream",
     "text": [
      "Successfully loaded 403 documents!\n",
      "Example document path: langchain/docs/docs/people.mdx\n",
      "Cleaned Content Preview: MODEL_NOT_FOUND\n",
      "\n",
      "The model name you have specified is not acknowledged by your provider.\n",
      "\n",
      "Troubleshooting\n",
      "\n",
      "The following may help resolve this error:\n",
      "\n",
      "Double check the model string you are passing in.\n",
      "\n",
      "If you are using a proxy or other alternative host with a model wrapper, confirm that the permitted model names are not restricted or altered.\n"
     ]
    }
   ],
   "source": [
    "# Combine both lists\n",
    "docs = docs_mdx\n",
    "\n",
    "print(f\"Successfully loaded {len(docs)} documents!\")\n",
    "print(f\"Example document path: {docs[0].metadata['source']}\")  # Shows file path\n",
    "print(f\"Cleaned Content Preview: {docs[40].page_content[:500]}\")  # First 500 chars"
   ]
  },
  {
   "cell_type": "code",
   "execution_count": 6,
   "id": "1b0089bc-d0fb-4f3a-8def-4705e1ff9cb2",
   "metadata": {
    "tags": []
   },
   "outputs": [
    {
     "name": "stdout",
     "output_type": "stream",
     "text": [
      "Documents saved successfully!\n"
     ]
    }
   ],
   "source": [
    "import pickle\n",
    "\n",
    "# Save the documents as a pickle file\n",
    "with open(\"langchain_docs.pkl\", \"wb\") as f:\n",
    "    pickle.dump(docs, f)\n",
    "\n",
    "print(\"Documents saved successfully!\")\n"
   ]
  },
  {
   "cell_type": "code",
   "execution_count": null,
   "id": "ab94e69f-0efe-4ba6-adab-0c53a42e57f6",
   "metadata": {},
   "outputs": [],
   "source": []
  }
 ],
 "metadata": {
  "kernelspec": {
   "display_name": "Python (ai_env)",
   "language": "python",
   "name": "ai_env"
  },
  "language_info": {
   "codemirror_mode": {
    "name": "ipython",
    "version": 3
   },
   "file_extension": ".py",
   "mimetype": "text/x-python",
   "name": "python",
   "nbconvert_exporter": "python",
   "pygments_lexer": "ipython3",
   "version": "3.11.3"
  }
 },
 "nbformat": 4,
 "nbformat_minor": 5
}
